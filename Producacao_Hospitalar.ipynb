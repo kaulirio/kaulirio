{
  "nbformat": 4,
  "nbformat_minor": 0,
  "metadata": {
    "colab": {
      "provenance": [],
      "toc_visible": true,
      "mount_file_id": "1FP00oS-D8avp2F18JdI4ZVQS1MSg1hSa",
      "authorship_tag": "ABX9TyPKQAd4j8u4Z0AaIhVHUrNe",
      "include_colab_link": true
    },
    "kernelspec": {
      "name": "python3",
      "display_name": "Python 3"
    },
    "language_info": {
      "name": "python"
    }
  },
  "cells": [
    {
      "cell_type": "markdown",
      "metadata": {
        "id": "view-in-github",
        "colab_type": "text"
      },
      "source": [
        "<a href=\"https://colab.research.google.com/github/kaulirio/kaulirio/blob/main/Producacao_Hospitalar.ipynb\" target=\"_parent\"><img src=\"https://colab.research.google.com/assets/colab-badge.svg\" alt=\"Open In Colab\"/></a>"
      ]
    },
    {
      "cell_type": "code",
      "execution_count": 23,
      "metadata": {
        "colab": {
          "base_uri": "https://localhost:8080/"
        },
        "id": "rjYiRhj5AwpJ",
        "outputId": "58ed2c1b-ef8f-464d-d0e2-0f9af54470ca"
      },
      "outputs": [
        {
          "output_type": "stream",
          "name": "stdout",
          "text": [
            "Kaue\n"
          ]
        }
      ],
      "source": [
        "\n",
        "#from google.colab import drive\n",
        "#drive.mount('/content/sample_data')\n",
        "\n",
        "#import pandas as pd #1 célula\n",
        "\n",
        "#dados = pd.read_csv('/content/A150850189_28_143_208.csv', engine='python', encoding='ISO-8859-1', skiprows=3, sep=';', skipfooter=12, thousands='.', decimal = ',' )  #2 célular\n",
        "\n",
        "#dados = pd.read_csv('/content/drive/MyDrive/Colab Database/A150850189_28_143_208 (1).csv', encoding='ISO-8859-1', skiprows=3, sep=';', skipfooter=12, thousands='.', decimal = ',' )  #2 célular\n",
        "\n",
        "#dados = pd.read_csv('/content/drive/MyDrive/Colab Database/A150850189_28_143_208 (1).csv', encoding='ISO-8859-1', skiprows=3, sep=';', skipfooter=12, thousands='.', decimal = ',' )  #2 célular\n",
        "\n",
        "nome = \"Kaue\"\n",
        "print(nome)\n"
      ]
    },
    {
      "cell_type": "code",
      "source": [],
      "metadata": {
        "id": "LwclC5eXwaas"
      },
      "execution_count": null,
      "outputs": []
    },
    {
      "cell_type": "markdown",
      "source": [
        "# Analisando dados da producao hospitalar Testando **bold**"
      ],
      "metadata": {
        "id": "W6gkyP1jwioA"
      }
    },
    {
      "cell_type": "code",
      "source": [],
      "metadata": {
        "id": "Lp1r0gB_wp_n"
      },
      "execution_count": null,
      "outputs": []
    }
  ]
}